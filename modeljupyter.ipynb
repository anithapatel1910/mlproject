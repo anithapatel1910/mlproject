{
 "cells": [
  {
   "cell_type": "code",
   "execution_count": 1,
   "metadata": {},
   "outputs": [],
   "source": [
    "import numpy as np\n",
    "import matplotlib.pyplot as plt\n",
    "import pandas as pd\n",
    "import pickle"
   ]
  },
  {
   "cell_type": "code",
   "execution_count": 2,
   "metadata": {},
   "outputs": [
    {
     "data": {
      "text/html": [
       "<div>\n",
       "<style scoped>\n",
       "    .dataframe tbody tr th:only-of-type {\n",
       "        vertical-align: middle;\n",
       "    }\n",
       "\n",
       "    .dataframe tbody tr th {\n",
       "        vertical-align: top;\n",
       "    }\n",
       "\n",
       "    .dataframe thead th {\n",
       "        text-align: right;\n",
       "    }\n",
       "</style>\n",
       "<table border=\"1\" class=\"dataframe\">\n",
       "  <thead>\n",
       "    <tr style=\"text-align: right;\">\n",
       "      <th></th>\n",
       "      <th>sub1</th>\n",
       "      <th>sub2</th>\n",
       "      <th>sub3</th>\n",
       "      <th>study_hours</th>\n",
       "      <th>assignments</th>\n",
       "      <th>marks</th>\n",
       "    </tr>\n",
       "  </thead>\n",
       "  <tbody>\n",
       "    <tr>\n",
       "      <th>0</th>\n",
       "      <td>72.0</td>\n",
       "      <td>72.0</td>\n",
       "      <td>74.0</td>\n",
       "      <td>6.83</td>\n",
       "      <td>none</td>\n",
       "      <td>78.50</td>\n",
       "    </tr>\n",
       "    <tr>\n",
       "      <th>1</th>\n",
       "      <td>69.0</td>\n",
       "      <td>90.0</td>\n",
       "      <td>88.0</td>\n",
       "      <td>6.56</td>\n",
       "      <td>completed</td>\n",
       "      <td>76.74</td>\n",
       "    </tr>\n",
       "    <tr>\n",
       "      <th>2</th>\n",
       "      <td>90.0</td>\n",
       "      <td>95.0</td>\n",
       "      <td>93.0</td>\n",
       "      <td>NaN</td>\n",
       "      <td>none</td>\n",
       "      <td>78.68</td>\n",
       "    </tr>\n",
       "    <tr>\n",
       "      <th>3</th>\n",
       "      <td>47.0</td>\n",
       "      <td>57.0</td>\n",
       "      <td>44.0</td>\n",
       "      <td>5.67</td>\n",
       "      <td>none</td>\n",
       "      <td>71.82</td>\n",
       "    </tr>\n",
       "    <tr>\n",
       "      <th>4</th>\n",
       "      <td>76.0</td>\n",
       "      <td>78.0</td>\n",
       "      <td>75.0</td>\n",
       "      <td>8.67</td>\n",
       "      <td>none</td>\n",
       "      <td>84.19</td>\n",
       "    </tr>\n",
       "  </tbody>\n",
       "</table>\n",
       "</div>"
      ],
      "text/plain": [
       "   sub1  sub2  sub3  study_hours assignments  marks\n",
       "0  72.0  72.0  74.0         6.83        none  78.50\n",
       "1  69.0  90.0  88.0         6.56   completed  76.74\n",
       "2  90.0  95.0  93.0          NaN        none  78.68\n",
       "3  47.0  57.0  44.0         5.67        none  71.82\n",
       "4  76.0  78.0  75.0         8.67        none  84.19"
      ]
     },
     "execution_count": 2,
     "metadata": {},
     "output_type": "execute_result"
    }
   ],
   "source": [
    "da=pd.read_csv('student.csv')\n",
    "da.head()"
   ]
  },
  {
   "cell_type": "code",
   "execution_count": 3,
   "metadata": {},
   "outputs": [],
   "source": [
    "\n",
    "\n",
    "da['sub1'].fillna(da['sub1'].mean(), inplace=True)\n",
    "da['sub2'].fillna(da['sub2'].mean(), inplace=True)\n",
    "da['sub3'].fillna(da['sub3'].mean(), inplace=True)\n",
    "da['study_hours'].fillna(da['study_hours'].mean(), inplace=True)\n",
    "da['average']=(da['sub1']+da['sub2']+da['sub3'])/3\n",
    "\n"
   ]
  },
  {
   "cell_type": "code",
   "execution_count": 4,
   "metadata": {},
   "outputs": [
    {
     "data": {
      "text/html": [
       "<div>\n",
       "<style scoped>\n",
       "    .dataframe tbody tr th:only-of-type {\n",
       "        vertical-align: middle;\n",
       "    }\n",
       "\n",
       "    .dataframe tbody tr th {\n",
       "        vertical-align: top;\n",
       "    }\n",
       "\n",
       "    .dataframe thead th {\n",
       "        text-align: right;\n",
       "    }\n",
       "</style>\n",
       "<table border=\"1\" class=\"dataframe\">\n",
       "  <thead>\n",
       "    <tr style=\"text-align: right;\">\n",
       "      <th></th>\n",
       "      <th>sub1</th>\n",
       "      <th>sub2</th>\n",
       "      <th>sub3</th>\n",
       "      <th>study_hours</th>\n",
       "      <th>assignments</th>\n",
       "      <th>marks</th>\n",
       "      <th>average</th>\n",
       "    </tr>\n",
       "  </thead>\n",
       "  <tbody>\n",
       "    <tr>\n",
       "      <th>0</th>\n",
       "      <td>5.13125</td>\n",
       "      <td>5.01875</td>\n",
       "      <td>4.6875</td>\n",
       "      <td>6.830000</td>\n",
       "      <td>none</td>\n",
       "      <td>78.50</td>\n",
       "      <td>4.945833</td>\n",
       "    </tr>\n",
       "    <tr>\n",
       "      <th>1</th>\n",
       "      <td>5.13125</td>\n",
       "      <td>5.01875</td>\n",
       "      <td>4.6875</td>\n",
       "      <td>6.560000</td>\n",
       "      <td>completed</td>\n",
       "      <td>76.74</td>\n",
       "      <td>4.945833</td>\n",
       "    </tr>\n",
       "    <tr>\n",
       "      <th>2</th>\n",
       "      <td>5.75000</td>\n",
       "      <td>5.50000</td>\n",
       "      <td>5.0000</td>\n",
       "      <td>6.988969</td>\n",
       "      <td>none</td>\n",
       "      <td>78.68</td>\n",
       "      <td>5.416667</td>\n",
       "    </tr>\n",
       "    <tr>\n",
       "      <th>3</th>\n",
       "      <td>5.13125</td>\n",
       "      <td>5.01875</td>\n",
       "      <td>4.6875</td>\n",
       "      <td>5.670000</td>\n",
       "      <td>none</td>\n",
       "      <td>71.82</td>\n",
       "      <td>4.945833</td>\n",
       "    </tr>\n",
       "    <tr>\n",
       "      <th>4</th>\n",
       "      <td>5.13125</td>\n",
       "      <td>5.01875</td>\n",
       "      <td>4.6875</td>\n",
       "      <td>8.670000</td>\n",
       "      <td>none</td>\n",
       "      <td>84.19</td>\n",
       "      <td>4.945833</td>\n",
       "    </tr>\n",
       "  </tbody>\n",
       "</table>\n",
       "</div>"
      ],
      "text/plain": [
       "      sub1     sub2    sub3  study_hours assignments  marks   average\n",
       "0  5.13125  5.01875  4.6875     6.830000        none  78.50  4.945833\n",
       "1  5.13125  5.01875  4.6875     6.560000   completed  76.74  4.945833\n",
       "2  5.75000  5.50000  5.0000     6.988969        none  78.68  5.416667\n",
       "3  5.13125  5.01875  4.6875     5.670000        none  71.82  4.945833\n",
       "4  5.13125  5.01875  4.6875     8.670000        none  84.19  4.945833"
      ]
     },
     "execution_count": 4,
     "metadata": {},
     "output_type": "execute_result"
    }
   ],
   "source": [
    "da.head()"
   ]
  },
  {
   "cell_type": "code",
   "execution_count": 5,
   "metadata": {},
   "outputs": [],
   "source": [
    "da['study_hours']=da['study_hours'].astype('int64')\n"
   ]
  },
  {
   "cell_type": "code",
   "execution_count": 6,
   "metadata": {},
   "outputs": [],
   "source": [
    "da['marks']=da['marks']-10"
   ]
  },
  {
   "cell_type": "code",
   "execution_count": 7,
   "metadata": {},
   "outputs": [],
   "source": [
    "da.head()\n",
    "da['assignments']=pd.get_dummies(da['assignments'])"
   ]
  },
  {
   "cell_type": "code",
   "execution_count": 8,
   "metadata": {},
   "outputs": [],
   "source": [
    "da['marks']=da['marks']+(da['assignments']*10)"
   ]
  },
  {
   "cell_type": "code",
   "execution_count": 9,
   "metadata": {},
   "outputs": [
    {
     "data": {
      "text/html": [
       "<div>\n",
       "<style scoped>\n",
       "    .dataframe tbody tr th:only-of-type {\n",
       "        vertical-align: middle;\n",
       "    }\n",
       "\n",
       "    .dataframe tbody tr th {\n",
       "        vertical-align: top;\n",
       "    }\n",
       "\n",
       "    .dataframe thead th {\n",
       "        text-align: right;\n",
       "    }\n",
       "</style>\n",
       "<table border=\"1\" class=\"dataframe\">\n",
       "  <thead>\n",
       "    <tr style=\"text-align: right;\">\n",
       "      <th></th>\n",
       "      <th>sub1</th>\n",
       "      <th>sub2</th>\n",
       "      <th>sub3</th>\n",
       "      <th>study_hours</th>\n",
       "      <th>assignments</th>\n",
       "      <th>marks</th>\n",
       "      <th>average</th>\n",
       "    </tr>\n",
       "  </thead>\n",
       "  <tbody>\n",
       "    <tr>\n",
       "      <th>0</th>\n",
       "      <td>5.13125</td>\n",
       "      <td>5.01875</td>\n",
       "      <td>4.6875</td>\n",
       "      <td>6</td>\n",
       "      <td>0</td>\n",
       "      <td>68.50</td>\n",
       "      <td>4.945833</td>\n",
       "    </tr>\n",
       "    <tr>\n",
       "      <th>1</th>\n",
       "      <td>5.13125</td>\n",
       "      <td>5.01875</td>\n",
       "      <td>4.6875</td>\n",
       "      <td>6</td>\n",
       "      <td>1</td>\n",
       "      <td>76.74</td>\n",
       "      <td>4.945833</td>\n",
       "    </tr>\n",
       "    <tr>\n",
       "      <th>2</th>\n",
       "      <td>5.75000</td>\n",
       "      <td>5.50000</td>\n",
       "      <td>5.0000</td>\n",
       "      <td>6</td>\n",
       "      <td>0</td>\n",
       "      <td>68.68</td>\n",
       "      <td>5.416667</td>\n",
       "    </tr>\n",
       "    <tr>\n",
       "      <th>3</th>\n",
       "      <td>5.13125</td>\n",
       "      <td>5.01875</td>\n",
       "      <td>4.6875</td>\n",
       "      <td>5</td>\n",
       "      <td>0</td>\n",
       "      <td>61.82</td>\n",
       "      <td>4.945833</td>\n",
       "    </tr>\n",
       "    <tr>\n",
       "      <th>4</th>\n",
       "      <td>5.13125</td>\n",
       "      <td>5.01875</td>\n",
       "      <td>4.6875</td>\n",
       "      <td>8</td>\n",
       "      <td>0</td>\n",
       "      <td>74.19</td>\n",
       "      <td>4.945833</td>\n",
       "    </tr>\n",
       "  </tbody>\n",
       "</table>\n",
       "</div>"
      ],
      "text/plain": [
       "      sub1     sub2    sub3  study_hours  assignments  marks   average\n",
       "0  5.13125  5.01875  4.6875            6            0  68.50  4.945833\n",
       "1  5.13125  5.01875  4.6875            6            1  76.74  4.945833\n",
       "2  5.75000  5.50000  5.0000            6            0  68.68  5.416667\n",
       "3  5.13125  5.01875  4.6875            5            0  61.82  4.945833\n",
       "4  5.13125  5.01875  4.6875            8            0  74.19  4.945833"
      ]
     },
     "execution_count": 9,
     "metadata": {},
     "output_type": "execute_result"
    }
   ],
   "source": [
    "da.head()"
   ]
  },
  {
   "cell_type": "code",
   "execution_count": 10,
   "metadata": {},
   "outputs": [],
   "source": [
    "da['assignments']=da['assignments'].astype('int64')"
   ]
  },
  {
   "cell_type": "code",
   "execution_count": null,
   "metadata": {},
   "outputs": [],
   "source": []
  },
  {
   "cell_type": "code",
   "execution_count": 11,
   "metadata": {},
   "outputs": [
    {
     "data": {
      "text/plain": [
       "LinearRegression()"
      ]
     },
     "execution_count": 11,
     "metadata": {},
     "output_type": "execute_result"
    }
   ],
   "source": [
    "from sklearn.linear_model import LinearRegression\n",
    "regressor = LinearRegression()\n",
    "\n",
    "regressor.fit(da.drop(['sub1','sub2','sub3','marks'],axis='columns'),da.marks)"
   ]
  },
  {
   "cell_type": "code",
   "execution_count": 12,
   "metadata": {},
   "outputs": [
    {
     "data": {
      "text/plain": [
       "array([ 3.97584444,  9.47477436, -0.05125116])"
      ]
     },
     "execution_count": 12,
     "metadata": {},
     "output_type": "execute_result"
    }
   ],
   "source": [
    "regressor.coef_"
   ]
  },
  {
   "cell_type": "code",
   "execution_count": 13,
   "metadata": {},
   "outputs": [],
   "source": [
    "pickle.dump(regressor, open('mymodel.pkl','wb'))"
   ]
  },
  {
   "cell_type": "code",
   "execution_count": 15,
   "metadata": {},
   "outputs": [
    {
     "name": "stdout",
     "output_type": "stream",
     "text": [
      "[99.39874995]\n"
     ]
    }
   ],
   "source": [
    "mymodel = pickle.load(open('mymodel.pkl','rb'))\n",
    "print(mymodel.predict([[12,1,9]]))"
   ]
  },
  {
   "cell_type": "markdown",
   "metadata": {},
   "source": [
    "# "
   ]
  },
  {
   "cell_type": "code",
   "execution_count": null,
   "metadata": {},
   "outputs": [],
   "source": []
  },
  {
   "cell_type": "code",
   "execution_count": null,
   "metadata": {},
   "outputs": [],
   "source": []
  }
 ],
 "metadata": {
  "kernelspec": {
   "display_name": "Python 3",
   "language": "python",
   "name": "python3"
  },
  "language_info": {
   "codemirror_mode": {
    "name": "ipython",
    "version": 3
   },
   "file_extension": ".py",
   "mimetype": "text/x-python",
   "name": "python",
   "nbconvert_exporter": "python",
   "pygments_lexer": "ipython3",
   "version": "3.8.3"
  }
 },
 "nbformat": 4,
 "nbformat_minor": 4
}
